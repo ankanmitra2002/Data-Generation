{
 "cells": [
  {
   "cell_type": "code",
   "execution_count": 63,
   "id": "c43ecc01",
   "metadata": {},
   "outputs": [
    {
     "name": "stdout",
     "output_type": "stream",
     "text": [
      "Route capacities saved to route_capacities.json\n"
     ]
    }
   ],
   "source": [
    "\n",
    "import json\n",
    "import random\n",
    "\n",
    "with open(\"input/Routes.json\") as f:\n",
    "    route_dict = json.load(f)\n",
    "\n",
    "route_ids = list(route_dict.keys())\n",
    "\n",
    "\n",
    "capacity = {rid: random.randint(30, 35) for rid in route_ids}\n",
    "\n",
    "with open(\"input/route_capacities.json\", \"w\") as f:\n",
    "    json.dump(capacity, f, indent=4)\n",
    "\n",
    "print(\"Route capacities saved to route_capacities.json\")"
   ]
  },
  {
   "cell_type": "code",
   "execution_count": 64,
   "id": "878294dc",
   "metadata": {},
   "outputs": [
    {
     "name": "stdout",
     "output_type": "stream",
     "text": [
      "Generated 500 passengers in passengers.json\n"
     ]
    }
   ],
   "source": [
    "import json\n",
    "import random\n",
    "\n",
    "\n",
    "with open(\"input/Routes.json\", \"r\") as f:\n",
    "    route_dict = json.load(f)\n",
    "\n",
    "routes = list(route_dict.values())\n",
    "\n",
    "def generate_passenger(pid):\n",
    "    while True:\n",
    "        route = random.choice(routes)\n",
    "        if len(route) >= 5:\n",
    "            start_index = random.randint(0, len(route) - 4)\n",
    "            src_stops = route[start_index:start_index + 3]\n",
    "            dest_options = route[start_index + 3:]\n",
    "            if dest_options:\n",
    "                dest = random.choice(dest_options)\n",
    "                break\n",
    "    return {\n",
    "        \"source\": src_stops,\n",
    "        \"destination\": dest,\n",
    "    }\n",
    "total_passengers = 500 \n",
    "\n",
    "passengers = {f\"P{i}\": generate_passenger(i) for i in range(total_passengers)}\n",
    "\n",
    "\n",
    "with open(\"input/passengers.json\", \"w\") as f:\n",
    "    json.dump(passengers, f, indent=4)\n",
    "\n",
    "print(f\"Generated {total_passengers} passengers in passengers.json\")\n",
    "\n"
   ]
  },
  {
   "cell_type": "code",
   "execution_count": 65,
   "id": "234c1fdc",
   "metadata": {},
   "outputs": [
    {
     "name": "stdout",
     "output_type": "stream",
     "text": [
      "Feasible passenger routes based on all (source, destination) pairs saved to passenger_routes.json\n"
     ]
    }
   ],
   "source": [
    "with open(\"input/passengers.json\", \"r\") as f:\n",
    "    passengers = json.load(f)\n",
    "\n",
    "Rp = {}\n",
    "\n",
    "for pid, data in passengers.items():\n",
    "    sources = data[\"source\"]\n",
    "    destination = data[\"destination\"]\n",
    "\n",
    "    valid_routes = set()\n",
    "\n",
    "    for src in sources:\n",
    "        for idx, route in enumerate(routes):\n",
    "            if src in route and destination in route:\n",
    "                if route.index(src) < route.index(destination):\n",
    "                    valid_routes.add(idx)\n",
    "\n",
    "    Rp[pid] = sorted(list(valid_routes))\n",
    "\n",
    "with open(\"input/passenger_routes.json\", \"w\") as f:\n",
    "    json.dump(Rp, f, indent=4)\n",
    "\n",
    "print(\"Feasible passenger routes based on all (source, destination) pairs saved to passenger_routes.json\")"
   ]
  },
  {
   "cell_type": "code",
   "execution_count": 24,
   "id": "d604fffa",
   "metadata": {},
   "outputs": [
    {
     "name": "stdout",
     "output_type": "stream",
     "text": [
      "Total Unique Bus Stops: 82\n",
      "['Airport', 'Airport Gate No. 1', 'Aliah University', 'Alipore', 'BT Road', 'Bagbazar', 'Ballygunge', 'Bangur', 'Baranagar', 'Barasat', 'Barrackpore', 'Behala', 'Beleghata', 'Belgachia', 'Bhowanipore', 'Bidhannagar', 'Bosepukur', 'Chinar Park', 'City', 'College More', 'Daber More', 'Dhakuria', 'Dumdum', 'Dunlop', 'ECO Park', 'Eco Park', 'Eco Space', 'Esplanade', 'Garia', 'Garia Station Road', 'Gariahat', 'Golpark', 'Hazra', 'Howrah', 'Howrah Station', 'Jadavpur', 'Joka', 'Kalighat', 'Kamalgazi', 'Kankurgachi', 'Karunamoyee', 'Kasba', 'Khardah', 'Lake Town', 'Lalbazar', 'MG Road', 'Maidan', 'Marquis Street', 'Minto Park', 'Moulali', 'Narendrapur', 'New Alipore', 'New Town', 'Newtown', 'Park Circus', 'Park Street', 'Patuli', 'Phoolbagan', 'Rabindra Sadan', 'Rajarhat', 'Rashbehari', 'Ripon Street', 'Ruby', 'Ruby Hospital', 'SN Banerjee', 'Sakherbazar', 'Salt Lake', 'Salt Lake Sector V', 'Sealdah', 'Sector V', 'Shibpur', 'Shyambazar', 'Sinthee', 'Sinthee More', 'Sonarpur', 'Thakurpukur', 'Titagarh', 'Tobin Road', 'Tollygunge', 'Ultadanga', 'Unitech', 'VIP Road']\n"
     ]
    }
   ],
   "source": [
    "unique_bus_stops = set()\n",
    "for route in routes:\n",
    "    unique_bus_stops.update(route)\n",
    "\n",
    "unique_bus_stops_list = sorted(unique_bus_stops)\n",
    "\n",
    "print(\"Total Unique Bus Stops:\", len(unique_bus_stops_list))\n",
    "print(unique_bus_stops_list)\n",
    "\n",
    "with open(\"bus_stops.json\", \"w\") as f:\n",
    "    json.dump(unique_bus_stops_list, f, indent=2)"
   ]
  },
  {
   "cell_type": "code",
   "execution_count": 61,
   "id": "8733067b",
   "metadata": {},
   "outputs": [
    {
     "name": "stdout",
     "output_type": "stream",
     "text": [
      "500 passengers with group counts generated to passengers.json\n"
     ]
    }
   ],
   "source": [
    "import random\n",
    "import json\n",
    "\n",
    "with open(\"input/Routes.json\", \"r\") as f:\n",
    "    route_dict = json.load(f)\n",
    "\n",
    "routes = list(route_dict.values())\n",
    "\n",
    "P = {}\n",
    "total_passengers = 500 \n",
    "for i in range(total_passengers):\n",
    "    while True:\n",
    "        route = random.choice(routes)\n",
    "        if len(route) >= 5:\n",
    "            start_index = random.randint(0, len(route) - 4)  \n",
    "            src_stops = route[start_index:start_index + 3]\n",
    "            dest_options = route[start_index + 3:]\n",
    "            if dest_options:\n",
    "                dest = random.choice(dest_options)\n",
    "                count = random.randint(2, 5)  \n",
    "                P[f\"P{i}\"] = {\n",
    "                    \"source\": src_stops,\n",
    "                    \"destination\": dest,\n",
    "                    \"count\": count\n",
    "                }\n",
    "                break\n",
    "\n",
    "with open(\"input/passengers_group.json\", \"w\") as f:\n",
    "    json.dump(P, f, indent=4)\n",
    "\n",
    "print(f\"{total_passengers} passengers with group counts generated to passengers.json\")\n"
   ]
  },
  {
   "cell_type": "code",
   "execution_count": 66,
   "id": "7c6622a9",
   "metadata": {},
   "outputs": [
    {
     "name": "stdout",
     "output_type": "stream",
     "text": [
      "Feasible passenger routes based on all (source, destination) pairs saved to passenger_routes.json\n"
     ]
    }
   ],
   "source": [
    "with open(\"input/passengers_group.json\", \"r\") as f:\n",
    "    passengers = json.load(f)\n",
    "\n",
    "Rp = {}\n",
    "\n",
    "for pid, data in passengers.items():\n",
    "    sources = data[\"source\"]\n",
    "    destination = data[\"destination\"]\n",
    "\n",
    "    valid_routes = set()\n",
    "\n",
    "    for src in sources:\n",
    "        for idx, route in enumerate(routes):\n",
    "            if src in route and destination in route:\n",
    "                if route.index(src) < route.index(destination):\n",
    "                    valid_routes.add(idx)\n",
    "\n",
    "    Rp[pid] = sorted(list(valid_routes))\n",
    "\n",
    "with open(\"input/passenger_routes_group.json\", \"w\") as f:\n",
    "    json.dump(Rp, f, indent=4)\n",
    "\n",
    "print(\"Feasible passenger routes based on all (source, destination) pairs saved to passenger_routes.json\")"
   ]
  },
  {
   "cell_type": "code",
   "execution_count": null,
   "id": "d8f7845c",
   "metadata": {},
   "outputs": [
    {
     "name": "stdout",
     "output_type": "stream",
     "text": [
      "Generated bus_config.json with 300 buses across 59 routes.\n"
     ]
    }
   ],
   "source": [
    "import json\n",
    "import random\n",
    "\n",
    "\n",
    "with open(\"input/Routes.json\", \"r\") as f:\n",
    "    route_dict = json.load(f)\n",
    "\n",
    "route_ids = list(route_dict.keys())\n",
    "\n",
    "\n",
    "NUM_BUSES = 300\n",
    "BUS_CAPACITY = 50\n",
    "\n",
    "\n",
    "bus_config = {route_id: [] for route_id in route_ids}\n",
    "\n",
    "for i in range(NUM_BUSES):\n",
    "    bus_id = f\"bus{i+1:03d}\"\n",
    "    route = random.choice(route_ids)\n",
    "    bus_config[route].append({\n",
    "        \"bus_id\": bus_id,\n",
    "        \"capacity\": BUS_CAPACITY\n",
    "    })\n",
    "\n",
    "\n",
    "with open(\"input/bus_config.json\", \"w\") as f:\n",
    "    json.dump(bus_config, f, indent=4)\n",
    "\n",
    "print(f\"Generated bus_config.json with {NUM_BUSES} buses across {len(route_ids)} routes.\")\n"
   ]
  }
 ],
 "metadata": {
  "kernelspec": {
   "display_name": "Python 3",
   "language": "python",
   "name": "python3"
  },
  "language_info": {
   "codemirror_mode": {
    "name": "ipython",
    "version": 3
   },
   "file_extension": ".py",
   "mimetype": "text/x-python",
   "name": "python",
   "nbconvert_exporter": "python",
   "pygments_lexer": "ipython3",
   "version": "3.12.4"
  }
 },
 "nbformat": 4,
 "nbformat_minor": 5
}
